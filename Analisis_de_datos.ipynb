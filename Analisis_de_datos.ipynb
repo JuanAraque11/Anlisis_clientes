{
  "nbformat": 4,
  "nbformat_minor": 0,
  "metadata": {
    "colab": {
      "provenance": []
    },
    "kernelspec": {
      "name": "python3",
      "display_name": "Python 3"
    },
    "language_info": {
      "name": "python"
    }
  },
  "cells": [
    {
      "cell_type": "markdown",
      "source": [
        "Librerias necesarias"
      ],
      "metadata": {
        "id": "3pRP_UxW3pVF"
      }
    },
    {
      "cell_type": "code",
      "execution_count": 34,
      "metadata": {
        "id": "L3WxgkGw3b-Q"
      },
      "outputs": [],
      "source": [
        "import pandas as pd\n",
        "import matplotlib.pyplot as plt\n",
        "import numpy as np\n",
        "import requests\n",
        "import seaborn as sns\n",
        "%matplotlib inline\n",
        "#La última línea permitirá que las gráficas se \"incrusten\" en el notebook."
      ]
    },
    {
      "cell_type": "markdown",
      "source": [
        "Abrir archivo"
      ],
      "metadata": {
        "id": "TQ89cksb3l3k"
      }
    },
    {
      "cell_type": "code",
      "source": [
        "# Utiliza la URL \"raw\" del archivo Excel\n",
        "ruta = \"https://raw.githubusercontent.com/JuanAraque11/PPI/main/Lista-de-clientes-con-nombre-y-direccion.xlsx\"\n",
        "\n",
        "# Cargar el dataset a partir de la ruta establecida\n",
        "response = requests.get(ruta)\n",
        "\n",
        "if response.status_code == 200:\n",
        "    # Utiliza pd.read_excel con un objeto file-like\n",
        "    with pd.ExcelFile(response.content) as xls:\n",
        "        df = pd.read_excel(xls)\n",
        "    print(df.head())\n",
        "else:\n",
        "    print(\"Error al cargar el archivo:\", response.status_code)\n"
      ],
      "metadata": {
        "id": "f7iCWQiX3wPy"
      },
      "execution_count": null,
      "outputs": []
    },
    {
      "cell_type": "markdown",
      "source": [
        "Resumen estadístico de los datos"
      ],
      "metadata": {
        "id": "drTng9maCstM"
      }
    },
    {
      "cell_type": "code",
      "source": [
        "# Mostrar un resumen estadístico de las columnas numéricas\n",
        "print(df.describe())\n",
        "\n",
        "# Contar los valores únicos en cada columna\n",
        "print(df.nunique())\n"
      ],
      "metadata": {
        "colab": {
          "base_uri": "https://localhost:8080/"
        },
        "id": "7EBbj77489de",
        "outputId": "7abe0b49-abe9-4357-a45d-95eb2d526408"
      },
      "execution_count": 25,
      "outputs": [
        {
          "output_type": "stream",
          "name": "stdout",
          "text": [
            "                 Fecha de nacimiento                  Fecha de alta\n",
            "count                            999                            999\n",
            "mean   1985-05-27 11:43:25.405405376  2013-03-02 19:04:58.496496384\n",
            "min              1970-01-01 00:00:00            2005-02-18 08:08:17\n",
            "25%              1977-12-22 00:00:00            2009-02-05 23:47:33\n",
            "50%              1985-07-12 00:00:00            2013-01-27 15:41:25\n",
            "75%              1992-12-08 12:00:00     2017-04-08 09:00:02.500000\n",
            "max              2000-05-02 00:00:00            2021-05-10 12:02:52\n",
            "ID                           999\n",
            "Nombre completo              999\n",
            "Fecha de nacimiento          956\n",
            "Dirección                    905\n",
            "Localidad y Código postal    785\n",
            "Teléfono                     999\n",
            "Correo electrónico           977\n",
            "Fecha de alta                999\n",
            "Grupo de clientes              5\n",
            "dtype: int64\n"
          ]
        }
      ]
    },
    {
      "cell_type": "markdown",
      "source": [
        "Frecuencia de valores categóricos"
      ],
      "metadata": {
        "id": "5ePz1pkTDCzp"
      }
    },
    {
      "cell_type": "code",
      "source": [
        "# Contar la frecuencia de los valores en la columna 'Grupo de clientes'\n",
        "print(df['Grupo de clientes'].value_counts())\n",
        "\n",
        "# Contar la frecuencia de los valores en la columna 'Localidad y codigo postal'\n",
        "print(df['Localidad y Código postal'].value_counts())"
      ],
      "metadata": {
        "colab": {
          "base_uri": "https://localhost:8080/"
        },
        "id": "5K6ASWIjDH_B",
        "outputId": "d7269dda-e0b5-473c-bc65-d3af22212f49"
      },
      "execution_count": 31,
      "outputs": [
        {
          "output_type": "stream",
          "name": "stdout",
          "text": [
            "Grupo de clientes\n",
            "A    208\n",
            "E    208\n",
            "D    203\n",
            "C    190\n",
            "B    190\n",
            "Name: count, dtype: int64\n",
            "Localidad y Código postal\n",
            "London                       94\n",
            "Poughkeepsie, NY 12601        3\n",
            "Rego Park, NY 11374           3\n",
            "Troy, NY 12180                2\n",
            "Brooklyn, NY 11229            2\n",
            "                             ..\n",
            "53 Old Belmont St.            1\n",
            "9451 Stonybrook Court         1\n",
            "5 Rockland Court              1\n",
            "209 North Primrose Street     1\n",
            "93 Magnolia Ave.              1\n",
            "Name: count, Length: 785, dtype: int64\n"
          ]
        }
      ]
    },
    {
      "cell_type": "markdown",
      "source": [
        "Análisis de fechas"
      ],
      "metadata": {
        "id": "q0S5gdFqDRls"
      }
    },
    {
      "cell_type": "code",
      "source": [
        "# Convertir la columna 'Fecha de alta' a tipo datetime si aún no lo es\n",
        "df['Fecha de alta'] = pd.to_datetime(df['Fecha de alta'])\n",
        "\n",
        "# Calcular la edad de los clientes a partir de la fecha de nacimiento\n",
        "df['Edad'] = pd.Timestamp.now().year - pd.to_datetime(df['Fecha de nacimiento']).dt.year\n",
        "\n",
        "# Calcular la antigüedad de los clientes desde la fecha de alta\n",
        "df['Antigüedad'] = (pd.Timestamp.now() - df['Fecha de alta']).dt.days\n",
        "\n",
        "# Mostrar estadísticas sobre la edad y la antigüedad\n",
        "print(df[['Edad', 'Antigüedad']].describe())\n"
      ],
      "metadata": {
        "colab": {
          "base_uri": "https://localhost:8080/"
        },
        "id": "YmZXJaRBDUHn",
        "outputId": "f63e7767-7d65-4d14-fad6-ddff904cd6e4"
      },
      "execution_count": 27,
      "outputs": [
        {
          "output_type": "stream",
          "name": "stdout",
          "text": [
            "             Edad   Antigüedad\n",
            "count  999.000000   999.000000\n",
            "mean    39.081081  4054.292292\n",
            "std      8.741926  1727.535971\n",
            "min     24.000000  1064.000000\n",
            "25%     32.000000  2556.500000\n",
            "50%     39.000000  4088.000000\n",
            "75%     47.000000  5540.500000\n",
            "max     54.000000  6989.000000\n"
          ]
        }
      ]
    },
    {
      "cell_type": "markdown",
      "source": [
        "Análisis de correlación"
      ],
      "metadata": {
        "id": "1mPMPOhQEM58"
      }
    },
    {
      "cell_type": "code",
      "source": [
        "# Excluir columnas no numéricas antes de calcular la matriz de correlación\n",
        "df_numeric = df.select_dtypes(include=['int64', 'float64'])\n",
        "\n",
        "# Calcular la matriz de correlación entre las columnas numéricas\n",
        "correlation_matrix = df_numeric.corr()\n",
        "print(correlation_matrix)\n"
      ],
      "metadata": {
        "colab": {
          "base_uri": "https://localhost:8080/"
        },
        "id": "UIAuCeegEQ3C",
        "outputId": "2258fcde-dc66-4b46-9c21-f8dbb327c93d"
      },
      "execution_count": 32,
      "outputs": [
        {
          "output_type": "stream",
          "name": "stdout",
          "text": [
            "            Antigüedad\n",
            "Antigüedad         1.0\n"
          ]
        }
      ]
    },
    {
      "cell_type": "markdown",
      "source": [
        "Distribución de edades"
      ],
      "metadata": {
        "id": "kKH0viw3GFOu"
      }
    },
    {
      "cell_type": "code",
      "source": [
        "# Graficar la distribución de edades\n",
        "plt.hist(df['Edad'], bins=20, color='skyblue', edgecolor='black')\n",
        "plt.xlabel('Edad')\n",
        "plt.ylabel('Frecuencia')\n",
        "plt.title('Distribución de Edades')\n",
        "plt.show()"
      ],
      "metadata": {
        "colab": {
          "base_uri": "https://localhost:8080/",
          "height": 472
        },
        "id": "TNCCli4MGH-H",
        "outputId": "42422c47-e576-48c6-b764-83438f523e2f"
      },
      "execution_count": 33,
      "outputs": [
        {
          "output_type": "display_data",
          "data": {
            "text/plain": [
              "<Figure size 640x480 with 1 Axes>"
            ],
            "image/png": "[encoded data removed]"
          },
          "metadata": {}
        }
      ]
    },
    {
      "cell_type": "markdown",
      "source": [
        "Clientes por grupo"
      ],
      "metadata": {
        "id": "OCnTSS4VGN9A"
      }
    },
    {
      "cell_type": "code",
      "source": [
        "# Graficar la cantidad de clientes por grupo\n",
        "plt.figure(figsize=(8, 6))\n",
        "sns.countplot(x='Grupo de clientes', data=df, palette='Set2')\n",
        "plt.xlabel('Grupo de clientes')\n",
        "plt.ylabel('Cantidad de clientes')\n",
        "plt.title('Cantidad de clientes por grupo')\n",
        "plt.xticks(rotation=45)\n",
        "plt.show()\n"
      ],
      "metadata": {
        "colab": {
          "base_uri": "https://localhost:8080/",
          "height": 627
        },
        "id": "nqwhsxAyGPWX",
        "outputId": "f382dbe0-64d0-493b-b957-c4179dcaf7b4"
      },
      "execution_count": 35,
      "outputs": [
        {
          "output_type": "stream",
          "name": "stderr",
          "text": [
            "<ipython-input-35-5bdf22693d20>:3: FutureWarning: \n",
            "\n",
            "Passing `palette` without assigning `hue` is deprecated and will be removed in v0.14.0. Assign the `x` variable to `hue` and set `legend=False` for the same effect.\n",
            "\n",
            "  sns.countplot(x='Grupo de clientes', data=df, palette='Set2')\n"
          ]
        },
        {
          "output_type": "display_data",
          "data": {
            "text/plain": [
              "<Figure size 800x600 with 1 Axes>"
            ],
            "image/png": "[encoded data removed]"
          },
          "metadata": {}
        }
      ]
    }
  ]
}